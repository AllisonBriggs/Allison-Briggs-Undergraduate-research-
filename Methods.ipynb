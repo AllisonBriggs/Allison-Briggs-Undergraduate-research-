{
 "cells": [
  {
   "cell_type": "code",
   "execution_count": null,
   "metadata": {},
   "outputs": [],
   "source": []
  },
  {
   "cell_type": "code",
   "execution_count": 18,
   "metadata": {},
   "outputs": [
    {
     "name": "stdout",
     "output_type": "stream",
     "text": [
      "Defaulting to user installation because normal site-packages is not writeable\n",
      "Requirement already satisfied: multipledispatch in /home/jupyter-aab166/.local/lib/python3.8/site-packages (0.6.0)\n",
      "Requirement already satisfied: six in /opt/tljh/user/lib/python3.8/site-packages (from multipledispatch) (1.15.0)\n"
     ]
    }
   ],
   "source": [
    "! pip3 install multipledispatch\n"
   ]
  },
  {
   "cell_type": "code",
   "execution_count": 19,
   "metadata": {},
   "outputs": [],
   "source": [
    "from multipledispatch import dispatch"
   ]
  },
  {
   "cell_type": "code",
   "execution_count": 20,
   "metadata": {},
   "outputs": [
    {
     "name": "stdout",
     "output_type": "stream",
     "text": [
      "Problem Step 1:  0.5714285714285714\n",
      "Problem Step 2:  2\n",
      "Problem Step 3:  0.75\n",
      "Problem Step 1:  0.4\n",
      "Problem Step 2:  0.5\n",
      "Problem Step 3:  0.9\n",
      "Problem Step 1:  0.3333333333333333\n",
      "Problem Step 2:  0.11363636363636363\n"
     ]
    }
   ],
   "source": [
    "\n",
    "\n",
    "\n",
    "\n",
    " @dispatch(int, int)\n",
    "def incorrectAnswer(first, second):\n",
    "   # Problem step 1: correct answer to the main problem = number of second / number of possible outcomes\n",
    "   \n",
    "    possibleOutcomes = first + second\n",
    "    step1 = second/possibleOutcomes\n",
    "    print('Problem Step 1: ' , step1)\n",
    "    \n",
    "     # Problem step 2: categorical amount of outcomes *Question* \n",
    "    categoricalNumber = 2\n",
    "    print('Problem Step 2: ' , categoricalNumber)\n",
    "   \n",
    "    # Problem step 3: divide first number by second\n",
    "    \n",
    "    step3 = first/second\n",
    "    \n",
    "    print('Problem Step 3: ' , step3)\n",
    "    \n",
    "\n",
    " @dispatch(int, int, int)\n",
    "def incorrectAnswer(first, second, third):\n",
    "    \n",
    "    # Problem step 1: did not include favorable outcomes in # of possible outcomes\n",
    "    wrongPossibleOutcomes = second + third\n",
    "    step1 = first/wrongPossibleOutcomes\n",
    "    print('Problem Step 1: ' , step1)\n",
    "    \n",
    "    # Problem step 2: solved for final answer\n",
    "    correctPossibleOutcomes = first + second + third\n",
    "    correctStep1= first/correctPossibleOutcomes\n",
    "    step2 = correctStep1*(third/(correctPossibleOutcomes-1))\n",
    "    print('Problem Step 2: ' , step2)\n",
    "    \n",
    "    #Problem step 3: ??? \n",
    "    \n",
    "    \n",
    "    \n",
    "\n",
    "\n",
    " @dispatch(float, float, float)\n",
    "def incorrectAnswer(first, second, third):\n",
    "    # Problem step 1: did not subtract P(A and B) \n",
    "    step1 = first\n",
    "    print('Problem Step 1: ' , step1)\n",
    "    \n",
    "    # Problem step 2: did not subtract P(A and B)\n",
    "    step2 = second\n",
    "    print('Problem Step 2: ' , step2)\n",
    "    \n",
    "    # Problem step 3: add first and second but do not subtract intersection \n",
    "    step3 = first + second\n",
    "    print('Problem Step 3: ' , step3)\n",
    "    \n",
    "    \n",
    "    \n",
    "    \n",
    "    \n",
    "\n",
    "\n",
    "# calling product method with 2 arguments\n",
    "incorrectAnswer(6, 8) # this will give output of 6\n",
    "incorrectAnswer(0.4, 0.5, 0.1)\n",
    "incorrectAnswer(3, 4, 5)\n",
    "\n"
   ]
  },
  {
   "cell_type": "code",
   "execution_count": null,
   "metadata": {},
   "outputs": [],
   "source": []
  },
  {
   "cell_type": "code",
   "execution_count": null,
   "metadata": {},
   "outputs": [],
   "source": []
  }
 ],
 "metadata": {
  "kernelspec": {
   "display_name": "Python 3",
   "language": "python",
   "name": "python3"
  },
  "language_info": {
   "codemirror_mode": {
    "name": "ipython",
    "version": 3
   },
   "file_extension": ".py",
   "mimetype": "text/x-python",
   "name": "python",
   "nbconvert_exporter": "python",
   "pygments_lexer": "ipython3",
   "version": "3.8.3"
  }
 },
 "nbformat": 4,
 "nbformat_minor": 4
}
